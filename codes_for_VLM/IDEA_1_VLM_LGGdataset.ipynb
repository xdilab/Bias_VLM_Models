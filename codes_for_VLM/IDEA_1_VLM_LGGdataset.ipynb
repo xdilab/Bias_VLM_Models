{
  "cells": [
    {
      "cell_type": "code",
      "execution_count": null,
      "id": "46f0de6f-73aa-493c-931a-89bceb77e1d8",
      "metadata": {
        "colab": {
          "referenced_widgets": [
            "826580cecba84968a8dd78e5e43f7bb8",
            "e28135efec724d108177b258dbd0f2fd"
          ]
        },
        "id": "46f0de6f-73aa-493c-931a-89bceb77e1d8",
        "outputId": "fe291a80-766c-46fa-ae1b-5eaa9d42a1f1"
      },
      "outputs": [
        {
          "name": "stdout",
          "output_type": "stream",
          "text": [
            "Step 1: Gathering and splitting data...\n",
            "Found 3929 total images.\n",
            "Setting aside 1572 images. Using the remaining 2357 for this experiment.\n",
            "Splitting usable data into 1508 training, 377 validation, and 472 test samples.\n",
            "\n",
            "Step 2: Setting up model and processor...\n"
          ]
        },
        {
          "data": {
            "application/vnd.jupyter.widget-view+json": {
              "model_id": "826580cecba84968a8dd78e5e43f7bb8",
              "version_major": 2,
              "version_minor": 0
            },
            "text/plain": [
              "Loading checkpoint shards:   0%|          | 0/3 [00:00<?, ?it/s]"
            ]
          },
          "metadata": {},
          "output_type": "display_data"
        },
        {
          "name": "stdout",
          "output_type": "stream",
          "text": [
            "LoRA target modules: ['down_proj', 'gate_proj', 'k_proj', 'linear_1', 'linear_2', 'o_proj', 'out_proj', 'q_proj', 'up_proj', 'v_proj']\n",
            "trainable params: 107,651,072 || all params: 7,150,098,432 || trainable%: 1.5056\n",
            "\n",
            "Step 3: Preparing DataLoaders...\n",
            "\n",
            "Step 4: Starting fine-tuning with LoRA on language + projector + vision...\n"
          ]
        },
        {
          "name": "stderr",
          "output_type": "stream",
          "text": [
            "Training Epoch 1: 100%|███████████████████████| 368/368 [06:13<00:00,  1.02s/it]\n"
          ]
        },
        {
          "name": "stdout",
          "output_type": "stream",
          "text": [
            "\n",
            "Epoch 1 Avg Loss -> 0.2522\n"
          ]
        },
        {
          "name": "stderr",
          "output_type": "stream",
          "text": [
            "Validation Set Eval:   0%|                               | 0/93 [00:00<?, ?it/s]"
          ]
        },
        {
          "name": "stdout",
          "output_type": "stream",
          "text": [
            "\n",
            "[DEBUG]\n",
            "  pred_raw=\n",
            "USER:  \n",
            "What is the histologic grade of the brain tumor in the MRI: one or two?\n",
            "ASSISTANT: The grade of the tumor is one.\n",
            "  pred_span=\n",
            "the grade of the tumor is one.\n",
            "  true=\n",
            "The grade of the tumor is two.\n",
            "  want_two=True  -> ok=False\n",
            "\n",
            "[DEBUG]\n",
            "  pred_raw=\n",
            "USER:  \n",
            "What is the histologic grade of the brain tumor in the MRI: one or two?\n",
            "ASSISTANT: The grade of the tumor is one.\n",
            "  pred_span=\n",
            "the grade of the tumor is one.\n",
            "  true=\n",
            "The grade of the tumor is two.\n",
            "  want_two=True  -> ok=False\n",
            "\n",
            "[DEBUG]\n",
            "  pred_raw=\n",
            "USER:  \n",
            "What is the histologic grade of the brain tumor in the MRI: one or two?\n",
            "ASSISTANT: The grade of the tumor is one.\n",
            "  pred_span=\n",
            "the grade of the tumor is one.\n",
            "  true=\n",
            "The grade of the tumor is one.\n",
            "  want_two=False  -> ok=True\n",
            "\n",
            "[DEBUG]\n",
            "  pred_raw=\n",
            "USER:  \n",
            "What is the histologic grade of the brain tumor in the MRI: one or two?\n",
            "ASSISTANT: The grade of the tumor is one.\n",
            "  pred_span=\n",
            "the grade of the tumor is one.\n",
            "  true=\n",
            "The grade of the tumor is two.\n",
            "  want_two=True  -> ok=False\n"
          ]
        },
        {
          "name": "stderr",
          "output_type": "stream",
          "text": [
            "Validation Set Eval: 100%|██████████████████████| 93/93 [01:50<00:00,  1.19s/it]\n"
          ]
        },
        {
          "name": "stdout",
          "output_type": "stream",
          "text": [
            "\n",
            "--- Results for Validation Set Eval ---\n",
            "  - VLM Grade Accuracy (QA):       52.56%\n",
            "  - Perplexity (teacher-forced):   1.0729\n",
            "  - Token Accuracy (answer-only):  94.73%\n",
            "----------------------------------------\n",
            "  -> New best validation accuracy (52.56%). Saving adapters...\n",
            "================================================================================\n"
          ]
        },
        {
          "name": "stderr",
          "output_type": "stream",
          "text": [
            "Training Epoch 2: 100%|███████████████████████| 368/368 [06:11<00:00,  1.01s/it]\n"
          ]
        },
        {
          "name": "stdout",
          "output_type": "stream",
          "text": [
            "\n",
            "Epoch 2 Avg Loss -> 0.0702\n"
          ]
        },
        {
          "name": "stderr",
          "output_type": "stream",
          "text": [
            "Validation Set Eval:   0%|                               | 0/93 [00:00<?, ?it/s]"
          ]
        },
        {
          "name": "stdout",
          "output_type": "stream",
          "text": [
            "\n",
            "[DEBUG]\n",
            "  pred_raw=\n",
            "USER:  \n",
            "What is the histologic grade of the brain tumor in the MRI: one or two?\n",
            "ASSISTANT: The grade of the tumor is two.\n",
            "  pred_span=\n",
            "the grade of the tumor is two.\n",
            "  true=\n",
            "The grade of the tumor is two.\n",
            "  want_two=True  -> ok=True\n",
            "\n",
            "[DEBUG]\n",
            "  pred_raw=\n",
            "USER:  \n",
            "What is the histologic grade of the brain tumor in the MRI: one or two?\n",
            "ASSISTANT: The grade of the tumor is two.\n",
            "  pred_span=\n",
            "the grade of the tumor is two.\n",
            "  true=\n",
            "The grade of the tumor is two.\n",
            "  want_two=True  -> ok=True\n",
            "\n",
            "[DEBUG]\n",
            "  pred_raw=\n",
            "USER:  \n",
            "What is the histologic grade of the brain tumor in the MRI: one or two?\n",
            "ASSISTANT: The grade of the tumor is two.\n",
            "  pred_span=\n",
            "the grade of the tumor is two.\n",
            "  true=\n",
            "The grade of the tumor is one.\n",
            "  want_two=False  -> ok=False\n",
            "\n",
            "[DEBUG]\n",
            "  pred_raw=\n",
            "USER:  \n",
            "What is the histologic grade of the brain tumor in the MRI: one or two?\n",
            "ASSISTANT: The grade of the tumor is two.\n",
            "  pred_span=\n",
            "the grade of the tumor is two.\n",
            "  true=\n",
            "The grade of the tumor is two.\n",
            "  want_two=True  -> ok=True\n"
          ]
        },
        {
          "name": "stderr",
          "output_type": "stream",
          "text": [
            "Validation Set Eval: 100%|██████████████████████| 93/93 [01:49<00:00,  1.18s/it]\n"
          ]
        },
        {
          "name": "stdout",
          "output_type": "stream",
          "text": [
            "\n",
            "--- Results for Validation Set Eval ---\n",
            "  - VLM Grade Accuracy (QA):       47.98%\n",
            "  - Perplexity (teacher-forced):   1.0724\n",
            "  - Token Accuracy (answer-only):  94.25%\n",
            "----------------------------------------\n",
            "  -> No improvement for 1 epoch(s).\n",
            "================================================================================\n"
          ]
        },
        {
          "name": "stderr",
          "output_type": "stream",
          "text": [
            "Training Epoch 3: 100%|███████████████████████| 368/368 [06:09<00:00,  1.00s/it]\n"
          ]
        },
        {
          "name": "stdout",
          "output_type": "stream",
          "text": [
            "\n",
            "Epoch 3 Avg Loss -> 0.0692\n"
          ]
        },
        {
          "name": "stderr",
          "output_type": "stream",
          "text": [
            "Validation Set Eval:   0%|                               | 0/93 [00:00<?, ?it/s]"
          ]
        },
        {
          "name": "stdout",
          "output_type": "stream",
          "text": [
            "\n",
            "[DEBUG]\n",
            "  pred_raw=\n",
            "USER:  \n",
            "What is the histologic grade of the brain tumor in the MRI: one or two?\n",
            "ASSISTANT: The grade of the tumor is two.\n",
            "  pred_span=\n",
            "the grade of the tumor is two.\n",
            "  true=\n",
            "The grade of the tumor is two.\n",
            "  want_two=True  -> ok=True\n",
            "\n",
            "[DEBUG]\n",
            "  pred_raw=\n",
            "USER:  \n",
            "What is the histologic grade of the brain tumor in the MRI: one or two?\n",
            "ASSISTANT: The grade of the tumor is two.\n",
            "  pred_span=\n",
            "the grade of the tumor is two.\n",
            "  true=\n",
            "The grade of the tumor is two.\n",
            "  want_two=True  -> ok=True\n",
            "\n",
            "[DEBUG]\n",
            "  pred_raw=\n",
            "USER:  \n",
            "What is the histologic grade of the brain tumor in the MRI: one or two?\n",
            "ASSISTANT: The grade of the tumor is one.\n",
            "  pred_span=\n",
            "the grade of the tumor is one.\n",
            "  true=\n",
            "The grade of the tumor is one.\n",
            "  want_two=False  -> ok=True\n",
            "\n",
            "[DEBUG]\n",
            "  pred_raw=\n",
            "USER:  \n",
            "What is the histologic grade of the brain tumor in the MRI: one or two?\n",
            "ASSISTANT: The grade of the tumor is one.\n",
            "  pred_span=\n",
            "the grade of the tumor is one.\n",
            "  true=\n",
            "The grade of the tumor is two.\n",
            "  want_two=True  -> ok=False\n"
          ]
        },
        {
          "name": "stderr",
          "output_type": "stream",
          "text": [
            "Validation Set Eval: 100%|██████████████████████| 93/93 [01:49<00:00,  1.18s/it]\n"
          ]
        },
        {
          "name": "stdout",
          "output_type": "stream",
          "text": [
            "\n",
            "--- Results for Validation Set Eval ---\n",
            "  - VLM Grade Accuracy (QA):       67.39%\n",
            "  - Perplexity (teacher-forced):   1.0666\n",
            "  - Token Accuracy (answer-only):  96.32%\n",
            "----------------------------------------\n",
            "  -> New best validation accuracy (67.39%). Saving adapters...\n",
            "================================================================================\n"
          ]
        },
        {
          "name": "stderr",
          "output_type": "stream",
          "text": [
            "Training Epoch 4: 100%|███████████████████████| 368/368 [06:09<00:00,  1.00s/it]\n"
          ]
        },
        {
          "name": "stdout",
          "output_type": "stream",
          "text": [
            "\n",
            "Epoch 4 Avg Loss -> 0.0636\n"
          ]
        },
        {
          "name": "stderr",
          "output_type": "stream",
          "text": [
            "Validation Set Eval:   0%|                               | 0/93 [00:00<?, ?it/s]"
          ]
        },
        {
          "name": "stdout",
          "output_type": "stream",
          "text": [
            "\n",
            "[DEBUG]\n",
            "  pred_raw=\n",
            "USER:  \n",
            "What is the histologic grade of the brain tumor in the MRI: one or two?\n",
            "ASSISTANT: The grade of the tumor is two.\n",
            "  pred_span=\n",
            "the grade of the tumor is two.\n",
            "  true=\n",
            "The grade of the tumor is two.\n",
            "  want_two=True  -> ok=True\n",
            "\n",
            "[DEBUG]\n",
            "  pred_raw=\n",
            "USER:  \n",
            "What is the histologic grade of the brain tumor in the MRI: one or two?\n",
            "ASSISTANT: The grade of the tumor is two.\n",
            "  pred_span=\n",
            "the grade of the tumor is two.\n",
            "  true=\n",
            "The grade of the tumor is two.\n",
            "  want_two=True  -> ok=True\n",
            "\n",
            "[DEBUG]\n",
            "  pred_raw=\n",
            "USER:  \n",
            "What is the histologic grade of the brain tumor in the MRI: one or two?\n",
            "ASSISTANT: The grade of the tumor is one.\n",
            "  pred_span=\n",
            "the grade of the tumor is one.\n",
            "  true=\n",
            "The grade of the tumor is one.\n",
            "  want_two=False  -> ok=True\n",
            "\n",
            "[DEBUG]\n",
            "  pred_raw=\n",
            "USER:  \n",
            "What is the histologic grade of the brain tumor in the MRI: one or two?\n",
            "ASSISTANT: The grade of the tumor is two.\n",
            "  pred_span=\n",
            "the grade of the tumor is two.\n",
            "  true=\n",
            "The grade of the tumor is two.\n",
            "  want_two=True  -> ok=True\n"
          ]
        },
        {
          "name": "stderr",
          "output_type": "stream",
          "text": [
            "Validation Set Eval: 100%|██████████████████████| 93/93 [01:48<00:00,  1.17s/it]\n"
          ]
        },
        {
          "name": "stdout",
          "output_type": "stream",
          "text": [
            "\n",
            "--- Results for Validation Set Eval ---\n",
            "  - VLM Grade Accuracy (QA):       64.96%\n",
            "  - Perplexity (teacher-forced):   1.0626\n",
            "  - Token Accuracy (answer-only):  96.14%\n",
            "----------------------------------------\n",
            "  -> No improvement for 1 epoch(s).\n",
            "================================================================================\n"
          ]
        },
        {
          "name": "stderr",
          "output_type": "stream",
          "text": [
            "Training Epoch 5: 100%|███████████████████████| 368/368 [06:06<00:00,  1.00it/s]\n"
          ]
        },
        {
          "name": "stdout",
          "output_type": "stream",
          "text": [
            "\n",
            "Epoch 5 Avg Loss -> 0.0494\n"
          ]
        },
        {
          "name": "stderr",
          "output_type": "stream",
          "text": [
            "Validation Set Eval:   0%|                               | 0/93 [00:00<?, ?it/s]"
          ]
        },
        {
          "name": "stdout",
          "output_type": "stream",
          "text": [
            "\n",
            "[DEBUG]\n",
            "  pred_raw=\n",
            "USER:  \n",
            "What is the histologic grade of the brain tumor in the MRI: one or two?\n",
            "ASSISTANT: The grade of the tumor is one.\n",
            "  pred_span=\n",
            "the grade of the tumor is one.\n",
            "  true=\n",
            "The grade of the tumor is two.\n",
            "  want_two=True  -> ok=False\n",
            "\n",
            "[DEBUG]\n",
            "  pred_raw=\n",
            "USER:  \n",
            "What is the histologic grade of the brain tumor in the MRI: one or two?\n",
            "ASSISTANT: The grade of the tumor is one.\n",
            "  pred_span=\n",
            "the grade of the tumor is one.\n",
            "  true=\n",
            "The grade of the tumor is two.\n",
            "  want_two=True  -> ok=False\n",
            "\n",
            "[DEBUG]\n",
            "  pred_raw=\n",
            "USER:  \n",
            "What is the histologic grade of the brain tumor in the MRI: one or two?\n",
            "ASSISTANT: The grade of the tumor is one.\n",
            "  pred_span=\n",
            "the grade of the tumor is one.\n",
            "  true=\n",
            "The grade of the tumor is one.\n",
            "  want_two=False  -> ok=True\n",
            "\n",
            "[DEBUG]\n",
            "  pred_raw=\n",
            "USER:  \n",
            "What is the histologic grade of the brain tumor in the MRI: one or two?\n",
            "ASSISTANT: The grade of the tumor is one.\n",
            "  pred_span=\n",
            "the grade of the tumor is one.\n",
            "  true=\n",
            "The grade of the tumor is two.\n",
            "  want_two=True  -> ok=False\n"
          ]
        },
        {
          "name": "stderr",
          "output_type": "stream",
          "text": [
            "Validation Set Eval: 100%|██████████████████████| 93/93 [01:49<00:00,  1.17s/it]\n"
          ]
        },
        {
          "name": "stdout",
          "output_type": "stream",
          "text": [
            "\n",
            "--- Results for Validation Set Eval ---\n",
            "  - VLM Grade Accuracy (QA):       65.77%\n",
            "  - Perplexity (teacher-forced):   1.0643\n",
            "  - Token Accuracy (answer-only):  96.20%\n",
            "----------------------------------------\n",
            "  -> No improvement for 2 epoch(s).\n",
            "================================================================================\n"
          ]
        },
        {
          "name": "stderr",
          "output_type": "stream",
          "text": [
            "Training Epoch 6: 100%|███████████████████████| 368/368 [06:07<00:00,  1.00it/s]\n"
          ]
        },
        {
          "name": "stdout",
          "output_type": "stream",
          "text": [
            "\n",
            "Epoch 6 Avg Loss -> 0.0405\n"
          ]
        },
        {
          "name": "stderr",
          "output_type": "stream",
          "text": [
            "Validation Set Eval:   0%|                               | 0/93 [00:00<?, ?it/s]"
          ]
        },
        {
          "name": "stdout",
          "output_type": "stream",
          "text": [
            "\n",
            "[DEBUG]\n",
            "  pred_raw=\n",
            "USER:  \n",
            "What is the histologic grade of the brain tumor in the MRI: one or two?\n",
            "ASSISTANT: The grade of the tumor is two.\n",
            "  pred_span=\n",
            "the grade of the tumor is two.\n",
            "  true=\n",
            "The grade of the tumor is two.\n",
            "  want_two=True  -> ok=True\n",
            "\n",
            "[DEBUG]\n",
            "  pred_raw=\n",
            "USER:  \n",
            "What is the histologic grade of the brain tumor in the MRI: one or two?\n",
            "ASSISTANT: The grade of the tumor is two.\n",
            "  pred_span=\n",
            "the grade of the tumor is two.\n",
            "  true=\n",
            "The grade of the tumor is two.\n",
            "  want_two=True  -> ok=True\n",
            "\n",
            "[DEBUG]\n",
            "  pred_raw=\n",
            "USER:  \n",
            "What is the histologic grade of the brain tumor in the MRI: one or two?\n",
            "ASSISTANT: The grade of the tumor is one.\n",
            "  pred_span=\n",
            "the grade of the tumor is one.\n",
            "  true=\n",
            "The grade of the tumor is one.\n",
            "  want_two=False  -> ok=True\n",
            "\n",
            "[DEBUG]\n",
            "  pred_raw=\n",
            "USER:  \n",
            "What is the histologic grade of the brain tumor in the MRI: one or two?\n",
            "ASSISTANT: The grade of the tumor is two.\n",
            "  pred_span=\n",
            "the grade of the tumor is two.\n",
            "  true=\n",
            "The grade of the tumor is two.\n",
            "  want_two=True  -> ok=True\n"
          ]
        },
        {
          "name": "stderr",
          "output_type": "stream",
          "text": [
            "Validation Set Eval: 100%|██████████████████████| 93/93 [01:49<00:00,  1.17s/it]\n"
          ]
        },
        {
          "name": "stdout",
          "output_type": "stream",
          "text": [
            "\n",
            "--- Results for Validation Set Eval ---\n",
            "  - VLM Grade Accuracy (QA):       83.02%\n",
            "  - Perplexity (teacher-forced):   1.0401\n",
            "  - Token Accuracy (answer-only):  98.14%\n",
            "----------------------------------------\n",
            "  -> New best validation accuracy (83.02%). Saving adapters...\n",
            "================================================================================\n"
          ]
        },
        {
          "name": "stderr",
          "output_type": "stream",
          "text": [
            "Training Epoch 7: 100%|███████████████████████| 368/368 [06:04<00:00,  1.01it/s]\n"
          ]
        },
        {
          "name": "stdout",
          "output_type": "stream",
          "text": [
            "\n",
            "Epoch 7 Avg Loss -> 0.0219\n"
          ]
        },
        {
          "name": "stderr",
          "output_type": "stream",
          "text": [
            "Validation Set Eval:   0%|                               | 0/93 [00:00<?, ?it/s]"
          ]
        },
        {
          "name": "stdout",
          "output_type": "stream",
          "text": [
            "\n",
            "[DEBUG]\n",
            "  pred_raw=\n",
            "USER:  \n",
            "What is the histologic grade of the brain tumor in the MRI: one or two?\n",
            "ASSISTANT: The grade of the tumor is two.\n",
            "  pred_span=\n",
            "the grade of the tumor is two.\n",
            "  true=\n",
            "The grade of the tumor is two.\n",
            "  want_two=True  -> ok=True\n",
            "\n",
            "[DEBUG]\n",
            "  pred_raw=\n",
            "USER:  \n",
            "What is the histologic grade of the brain tumor in the MRI: one or two?\n",
            "ASSISTANT: The grade of the tumor is two.\n",
            "  pred_span=\n",
            "the grade of the tumor is two.\n",
            "  true=\n",
            "The grade of the tumor is two.\n",
            "  want_two=True  -> ok=True\n",
            "\n",
            "[DEBUG]\n",
            "  pred_raw=\n",
            "USER:  \n",
            "What is the histologic grade of the brain tumor in the MRI: one or two?\n",
            "ASSISTANT: The grade of the tumor is one.\n",
            "  pred_span=\n",
            "the grade of the tumor is one.\n",
            "  true=\n",
            "The grade of the tumor is one.\n",
            "  want_two=False  -> ok=True\n",
            "\n",
            "[DEBUG]\n",
            "  pred_raw=\n",
            "USER:  \n",
            "What is the histologic grade of the brain tumor in the MRI: one or two?\n",
            "ASSISTANT: The grade of the tumor is two.\n",
            "  pred_span=\n",
            "the grade of the tumor is two.\n",
            "  true=\n",
            "The grade of the tumor is two.\n",
            "  want_two=True  -> ok=True\n"
          ]
        },
        {
          "name": "stderr",
          "output_type": "stream",
          "text": [
            "Validation Set Eval: 100%|██████████████████████| 93/93 [01:49<00:00,  1.18s/it]\n"
          ]
        },
        {
          "name": "stdout",
          "output_type": "stream",
          "text": [
            "\n",
            "--- Results for Validation Set Eval ---\n",
            "  - VLM Grade Accuracy (QA):       80.86%\n",
            "  - Perplexity (teacher-forced):   1.0457\n",
            "  - Token Accuracy (answer-only):  97.87%\n",
            "----------------------------------------\n",
            "  -> No improvement for 1 epoch(s).\n",
            "================================================================================\n"
          ]
        },
        {
          "name": "stderr",
          "output_type": "stream",
          "text": [
            "Training Epoch 8: 100%|███████████████████████| 368/368 [06:00<00:00,  1.02it/s]\n"
          ]
        },
        {
          "name": "stdout",
          "output_type": "stream",
          "text": [
            "\n",
            "Epoch 8 Avg Loss -> 0.0150\n"
          ]
        },
        {
          "name": "stderr",
          "output_type": "stream",
          "text": [
            "Validation Set Eval:   0%|                               | 0/93 [00:00<?, ?it/s]"
          ]
        },
        {
          "name": "stdout",
          "output_type": "stream",
          "text": [
            "\n",
            "[DEBUG]\n",
            "  pred_raw=\n",
            "USER:  \n",
            "What is the histologic grade of the brain tumor in the MRI: one or two?\n",
            "ASSISTANT: The grade of the tumor is two.\n",
            "  pred_span=\n",
            "the grade of the tumor is two.\n",
            "  true=\n",
            "The grade of the tumor is two.\n",
            "  want_two=True  -> ok=True\n",
            "\n",
            "[DEBUG]\n",
            "  pred_raw=\n",
            "USER:  \n",
            "What is the histologic grade of the brain tumor in the MRI: one or two?\n",
            "ASSISTANT: The grade of the tumor is two.\n",
            "  pred_span=\n",
            "the grade of the tumor is two.\n",
            "  true=\n",
            "The grade of the tumor is two.\n",
            "  want_two=True  -> ok=True\n",
            "\n",
            "[DEBUG]\n",
            "  pred_raw=\n",
            "USER:  \n",
            "What is the histologic grade of the brain tumor in the MRI: one or two?\n",
            "ASSISTANT: The grade of the tumor is one.\n",
            "  pred_span=\n",
            "the grade of the tumor is one.\n",
            "  true=\n",
            "The grade of the tumor is one.\n",
            "  want_two=False  -> ok=True\n",
            "\n",
            "[DEBUG]\n",
            "  pred_raw=\n",
            "USER:  \n",
            "What is the histologic grade of the brain tumor in the MRI: one or two?\n",
            "ASSISTANT: The grade of the tumor is two.\n",
            "  pred_span=\n",
            "the grade of the tumor is two.\n",
            "  true=\n",
            "The grade of the tumor is two.\n",
            "  want_two=True  -> ok=True\n"
          ]
        },
        {
          "name": "stderr",
          "output_type": "stream",
          "text": [
            "Validation Set Eval: 100%|██████████████████████| 93/93 [01:50<00:00,  1.18s/it]\n"
          ]
        },
        {
          "name": "stdout",
          "output_type": "stream",
          "text": [
            "\n",
            "--- Results for Validation Set Eval ---\n",
            "  - VLM Grade Accuracy (QA):       84.37%\n",
            "  - Perplexity (teacher-forced):   1.0448\n",
            "  - Token Accuracy (answer-only):  98.26%\n",
            "----------------------------------------\n",
            "  -> New best validation accuracy (84.37%). Saving adapters...\n",
            "================================================================================\n"
          ]
        },
        {
          "name": "stderr",
          "output_type": "stream",
          "text": [
            "Training Epoch 9: 100%|███████████████████████| 368/368 [05:55<00:00,  1.03it/s]\n"
          ]
        },
        {
          "name": "stdout",
          "output_type": "stream",
          "text": [
            "\n",
            "Epoch 9 Avg Loss -> 0.0070\n"
          ]
        },
        {
          "name": "stderr",
          "output_type": "stream",
          "text": [
            "Validation Set Eval:   0%|                               | 0/93 [00:00<?, ?it/s]"
          ]
        },
        {
          "name": "stdout",
          "output_type": "stream",
          "text": [
            "\n",
            "[DEBUG]\n",
            "  pred_raw=\n",
            "USER:  \n",
            "What is the histologic grade of the brain tumor in the MRI: one or two?\n",
            "ASSISTANT: The grade of the tumor is two.\n",
            "  pred_span=\n",
            "the grade of the tumor is two.\n",
            "  true=\n",
            "The grade of the tumor is two.\n",
            "  want_two=True  -> ok=True\n",
            "\n",
            "[DEBUG]\n",
            "  pred_raw=\n",
            "USER:  \n",
            "What is the histologic grade of the brain tumor in the MRI: one or two?\n",
            "ASSISTANT: The grade of the tumor is two.\n",
            "  pred_span=\n",
            "the grade of the tumor is two.\n",
            "  true=\n",
            "The grade of the tumor is two.\n",
            "  want_two=True  -> ok=True\n",
            "\n",
            "[DEBUG]\n",
            "  pred_raw=\n",
            "USER:  \n",
            "What is the histologic grade of the brain tumor in the MRI: one or two?\n",
            "ASSISTANT: The grade of the tumor is one.\n",
            "  pred_span=\n",
            "the grade of the tumor is one.\n",
            "  true=\n",
            "The grade of the tumor is one.\n",
            "  want_two=False  -> ok=True\n",
            "\n",
            "[DEBUG]\n",
            "  pred_raw=\n",
            "USER:  \n",
            "What is the histologic grade of the brain tumor in the MRI: one or two?\n",
            "ASSISTANT: The grade of the tumor is two.\n",
            "  pred_span=\n",
            "the grade of the tumor is two.\n",
            "  true=\n",
            "The grade of the tumor is two.\n",
            "  want_two=True  -> ok=True\n"
          ]
        },
        {
          "name": "stderr",
          "output_type": "stream",
          "text": [
            "Validation Set Eval: 100%|██████████████████████| 93/93 [01:49<00:00,  1.18s/it]\n"
          ]
        },
        {
          "name": "stdout",
          "output_type": "stream",
          "text": [
            "\n",
            "--- Results for Validation Set Eval ---\n",
            "  - VLM Grade Accuracy (QA):       87.60%\n",
            "  - Perplexity (teacher-forced):   1.0379\n",
            "  - Token Accuracy (answer-only):  98.62%\n",
            "----------------------------------------\n",
            "  -> New best validation accuracy (87.60%). Saving adapters...\n",
            "================================================================================\n"
          ]
        },
        {
          "name": "stderr",
          "output_type": "stream",
          "text": [
            "Training Epoch 10: 100%|██████████████████████| 368/368 [05:53<00:00,  1.04it/s]\n"
          ]
        },
        {
          "name": "stdout",
          "output_type": "stream",
          "text": [
            "\n",
            "Epoch 10 Avg Loss -> 0.0068\n"
          ]
        },
        {
          "name": "stderr",
          "output_type": "stream",
          "text": [
            "Validation Set Eval:   0%|                               | 0/93 [00:00<?, ?it/s]"
          ]
        },
        {
          "name": "stdout",
          "output_type": "stream",
          "text": [
            "\n",
            "[DEBUG]\n",
            "  pred_raw=\n",
            "USER:  \n",
            "What is the histologic grade of the brain tumor in the MRI: one or two?\n",
            "ASSISTANT: The grade of the tumor is two.\n",
            "  pred_span=\n",
            "the grade of the tumor is two.\n",
            "  true=\n",
            "The grade of the tumor is two.\n",
            "  want_two=True  -> ok=True\n",
            "\n",
            "[DEBUG]\n",
            "  pred_raw=\n",
            "USER:  \n",
            "What is the histologic grade of the brain tumor in the MRI: one or two?\n",
            "ASSISTANT: The grade of the tumor is two.\n",
            "  pred_span=\n",
            "the grade of the tumor is two.\n",
            "  true=\n",
            "The grade of the tumor is two.\n",
            "  want_two=True  -> ok=True\n",
            "\n",
            "[DEBUG]\n",
            "  pred_raw=\n",
            "USER:  \n",
            "What is the histologic grade of the brain tumor in the MRI: one or two?\n",
            "ASSISTANT: The grade of the tumor is one.\n",
            "  pred_span=\n",
            "the grade of the tumor is one.\n",
            "  true=\n",
            "The grade of the tumor is one.\n",
            "  want_two=False  -> ok=True\n",
            "\n",
            "[DEBUG]\n",
            "  pred_raw=\n",
            "USER:  \n",
            "What is the histologic grade of the brain tumor in the MRI: one or two?\n",
            "ASSISTANT: The grade of the tumor is two.\n",
            "  pred_span=\n",
            "the grade of the tumor is two.\n",
            "  true=\n",
            "The grade of the tumor is two.\n",
            "  want_two=True  -> ok=True\n"
          ]
        },
        {
          "name": "stderr",
          "output_type": "stream",
          "text": [
            "Validation Set Eval: 100%|██████████████████████| 93/93 [01:49<00:00,  1.18s/it]\n"
          ]
        },
        {
          "name": "stdout",
          "output_type": "stream",
          "text": [
            "\n",
            "--- Results for Validation Set Eval ---\n",
            "  - VLM Grade Accuracy (QA):       89.22%\n",
            "  - Perplexity (teacher-forced):   1.0341\n",
            "  - Token Accuracy (answer-only):  98.80%\n",
            "----------------------------------------\n",
            "  -> New best validation accuracy (89.22%). Saving adapters...\n",
            "================================================================================\n"
          ]
        },
        {
          "name": "stderr",
          "output_type": "stream",
          "text": [
            "Training Epoch 11: 100%|██████████████████████| 368/368 [05:52<00:00,  1.04it/s]\n"
          ]
        },
        {
          "name": "stdout",
          "output_type": "stream",
          "text": [
            "\n",
            "Epoch 11 Avg Loss -> 0.0040\n"
          ]
        },
        {
          "name": "stderr",
          "output_type": "stream",
          "text": [
            "Validation Set Eval:   0%|                               | 0/93 [00:00<?, ?it/s]"
          ]
        },
        {
          "name": "stdout",
          "output_type": "stream",
          "text": [
            "\n",
            "[DEBUG]\n",
            "  pred_raw=\n",
            "USER:  \n",
            "What is the histologic grade of the brain tumor in the MRI: one or two?\n",
            "ASSISTANT: The grade of the tumor is two.\n",
            "  pred_span=\n",
            "the grade of the tumor is two.\n",
            "  true=\n",
            "The grade of the tumor is two.\n",
            "  want_two=True  -> ok=True\n",
            "\n",
            "[DEBUG]\n",
            "  pred_raw=\n",
            "USER:  \n",
            "What is the histologic grade of the brain tumor in the MRI: one or two?\n",
            "ASSISTANT: The grade of the tumor is two.\n",
            "  pred_span=\n",
            "the grade of the tumor is two.\n",
            "  true=\n",
            "The grade of the tumor is two.\n",
            "  want_two=True  -> ok=True\n",
            "\n",
            "[DEBUG]\n",
            "  pred_raw=\n",
            "USER:  \n",
            "What is the histologic grade of the brain tumor in the MRI: one or two?\n",
            "ASSISTANT: The grade of the tumor is one.\n",
            "  pred_span=\n",
            "the grade of the tumor is one.\n",
            "  true=\n",
            "The grade of the tumor is one.\n",
            "  want_two=False  -> ok=True\n",
            "\n",
            "[DEBUG]\n",
            "  pred_raw=\n",
            "USER:  \n",
            "What is the histologic grade of the brain tumor in the MRI: one or two?\n",
            "ASSISTANT: The grade of the tumor is two.\n",
            "  pred_span=\n",
            "the grade of the tumor is two.\n",
            "  true=\n",
            "The grade of the tumor is two.\n",
            "  want_two=True  -> ok=True\n"
          ]
        },
        {
          "name": "stderr",
          "output_type": "stream",
          "text": [
            "Validation Set Eval: 100%|██████████████████████| 93/93 [01:49<00:00,  1.18s/it]\n"
          ]
        },
        {
          "name": "stdout",
          "output_type": "stream",
          "text": [
            "\n",
            "--- Results for Validation Set Eval ---\n",
            "  - VLM Grade Accuracy (QA):       87.33%\n",
            "  - Perplexity (teacher-forced):   1.0436\n",
            "  - Token Accuracy (answer-only):  98.59%\n",
            "----------------------------------------\n",
            "  -> No improvement for 1 epoch(s).\n",
            "================================================================================\n"
          ]
        },
        {
          "name": "stderr",
          "output_type": "stream",
          "text": [
            "Training Epoch 12: 100%|██████████████████████| 368/368 [05:49<00:00,  1.05it/s]\n"
          ]
        },
        {
          "name": "stdout",
          "output_type": "stream",
          "text": [
            "\n",
            "Epoch 12 Avg Loss -> 0.0014\n"
          ]
        },
        {
          "name": "stderr",
          "output_type": "stream",
          "text": [
            "Validation Set Eval:   0%|                               | 0/93 [00:00<?, ?it/s]"
          ]
        },
        {
          "name": "stdout",
          "output_type": "stream",
          "text": [
            "\n",
            "[DEBUG]\n",
            "  pred_raw=\n",
            "USER:  \n",
            "What is the histologic grade of the brain tumor in the MRI: one or two?\n",
            "ASSISTANT: The grade of the tumor is two.\n",
            "  pred_span=\n",
            "the grade of the tumor is two.\n",
            "  true=\n",
            "The grade of the tumor is two.\n",
            "  want_two=True  -> ok=True\n",
            "\n",
            "[DEBUG]\n",
            "  pred_raw=\n",
            "USER:  \n",
            "What is the histologic grade of the brain tumor in the MRI: one or two?\n",
            "ASSISTANT: The grade of the tumor is two.\n",
            "  pred_span=\n",
            "the grade of the tumor is two.\n",
            "  true=\n",
            "The grade of the tumor is two.\n",
            "  want_two=True  -> ok=True\n",
            "\n",
            "[DEBUG]\n",
            "  pred_raw=\n",
            "USER:  \n",
            "What is the histologic grade of the brain tumor in the MRI: one or two?\n",
            "ASSISTANT: The grade of the tumor is one.\n",
            "  pred_span=\n",
            "the grade of the tumor is one.\n",
            "  true=\n",
            "The grade of the tumor is one.\n",
            "  want_two=False  -> ok=True\n",
            "\n",
            "[DEBUG]\n",
            "  pred_raw=\n",
            "USER:  \n",
            "What is the histologic grade of the brain tumor in the MRI: one or two?\n",
            "ASSISTANT: The grade of the tumor is two.\n",
            "  pred_span=\n",
            "the grade of the tumor is two.\n",
            "  true=\n",
            "The grade of the tumor is two.\n",
            "  want_two=True  -> ok=True\n"
          ]
        },
        {
          "name": "stderr",
          "output_type": "stream",
          "text": [
            "Validation Set Eval: 100%|██████████████████████| 93/93 [01:49<00:00,  1.18s/it]\n"
          ]
        },
        {
          "name": "stdout",
          "output_type": "stream",
          "text": [
            "\n",
            "--- Results for Validation Set Eval ---\n",
            "  - VLM Grade Accuracy (QA):       86.79%\n",
            "  - Perplexity (teacher-forced):   1.0629\n",
            "  - Token Accuracy (answer-only):  98.53%\n",
            "----------------------------------------\n",
            "  -> No improvement for 2 epoch(s).\n",
            "================================================================================\n"
          ]
        },
        {
          "name": "stderr",
          "output_type": "stream",
          "text": [
            "Training Epoch 13: 100%|██████████████████████| 368/368 [05:45<00:00,  1.06it/s]\n"
          ]
        },
        {
          "name": "stdout",
          "output_type": "stream",
          "text": [
            "\n",
            "Epoch 13 Avg Loss -> 0.0009\n"
          ]
        },
        {
          "name": "stderr",
          "output_type": "stream",
          "text": [
            "Validation Set Eval:   0%|                               | 0/93 [00:00<?, ?it/s]"
          ]
        },
        {
          "name": "stdout",
          "output_type": "stream",
          "text": [
            "\n",
            "[DEBUG]\n",
            "  pred_raw=\n",
            "USER:  \n",
            "What is the histologic grade of the brain tumor in the MRI: one or two?\n",
            "ASSISTANT: The grade of the tumor is two.\n",
            "  pred_span=\n",
            "the grade of the tumor is two.\n",
            "  true=\n",
            "The grade of the tumor is two.\n",
            "  want_two=True  -> ok=True\n",
            "\n",
            "[DEBUG]\n",
            "  pred_raw=\n",
            "USER:  \n",
            "What is the histologic grade of the brain tumor in the MRI: one or two?\n",
            "ASSISTANT: The grade of the tumor is two.\n",
            "  pred_span=\n",
            "the grade of the tumor is two.\n",
            "  true=\n",
            "The grade of the tumor is two.\n",
            "  want_two=True  -> ok=True\n",
            "\n",
            "[DEBUG]\n",
            "  pred_raw=\n",
            "USER:  \n",
            "What is the histologic grade of the brain tumor in the MRI: one or two?\n",
            "ASSISTANT: The grade of the tumor is one.\n",
            "  pred_span=\n",
            "the grade of the tumor is one.\n",
            "  true=\n",
            "The grade of the tumor is one.\n",
            "  want_two=False  -> ok=True\n",
            "\n",
            "[DEBUG]\n",
            "  pred_raw=\n",
            "USER:  \n",
            "What is the histologic grade of the brain tumor in the MRI: one or two?\n",
            "ASSISTANT: The grade of the tumor is two.\n",
            "  pred_span=\n",
            "the grade of the tumor is two.\n",
            "  true=\n",
            "The grade of the tumor is two.\n",
            "  want_two=True  -> ok=True\n"
          ]
        },
        {
          "name": "stderr",
          "output_type": "stream",
          "text": [
            "Validation Set Eval: 100%|██████████████████████| 93/93 [01:49<00:00,  1.18s/it]\n"
          ]
        },
        {
          "name": "stdout",
          "output_type": "stream",
          "text": [
            "\n",
            "--- Results for Validation Set Eval ---\n",
            "  - VLM Grade Accuracy (QA):       87.33%\n",
            "  - Perplexity (teacher-forced):   1.0667\n",
            "  - Token Accuracy (answer-only):  98.59%\n",
            "----------------------------------------\n",
            "  -> No improvement for 3 epoch(s).\n",
            "================================================================================\n"
          ]
        },
        {
          "name": "stderr",
          "output_type": "stream",
          "text": [
            "Training Epoch 14: 100%|██████████████████████| 368/368 [05:52<00:00,  1.04it/s]\n"
          ]
        },
        {
          "name": "stdout",
          "output_type": "stream",
          "text": [
            "\n",
            "Epoch 14 Avg Loss -> 0.0073\n"
          ]
        },
        {
          "name": "stderr",
          "output_type": "stream",
          "text": [
            "Validation Set Eval:   0%|                               | 0/93 [00:00<?, ?it/s]"
          ]
        },
        {
          "name": "stdout",
          "output_type": "stream",
          "text": [
            "\n",
            "[DEBUG]\n",
            "  pred_raw=\n",
            "USER:  \n",
            "What is the histologic grade of the brain tumor in the MRI: one or two?\n",
            "ASSISTANT: The grade of the tumor is two.\n",
            "  pred_span=\n",
            "the grade of the tumor is two.\n",
            "  true=\n",
            "The grade of the tumor is two.\n",
            "  want_two=True  -> ok=True\n",
            "\n",
            "[DEBUG]\n",
            "  pred_raw=\n",
            "USER:  \n",
            "What is the histologic grade of the brain tumor in the MRI: one or two?\n",
            "ASSISTANT: The grade of the tumor is two.\n",
            "  pred_span=\n",
            "the grade of the tumor is two.\n",
            "  true=\n",
            "The grade of the tumor is two.\n",
            "  want_two=True  -> ok=True\n",
            "\n",
            "[DEBUG]\n",
            "  pred_raw=\n",
            "USER:  \n",
            "What is the histologic grade of the brain tumor in the MRI: one or two?\n",
            "ASSISTANT: The grade of the tumor is one.\n",
            "  pred_span=\n",
            "the grade of the tumor is one.\n",
            "  true=\n",
            "The grade of the tumor is one.\n",
            "  want_two=False  -> ok=True\n",
            "\n",
            "[DEBUG]\n",
            "  pred_raw=\n",
            "USER:  \n",
            "What is the histologic grade of the brain tumor in the MRI: one or two?\n",
            "ASSISTANT: The grade of the tumor is two.\n",
            "  pred_span=\n",
            "the grade of the tumor is two.\n",
            "  true=\n",
            "The grade of the tumor is two.\n",
            "  want_two=True  -> ok=True\n"
          ]
        },
        {
          "name": "stderr",
          "output_type": "stream",
          "text": [
            "Validation Set Eval: 100%|██████████████████████| 93/93 [01:49<00:00,  1.18s/it]\n"
          ]
        },
        {
          "name": "stdout",
          "output_type": "stream",
          "text": [
            "\n",
            "--- Results for Validation Set Eval ---\n",
            "  - VLM Grade Accuracy (QA):       85.71%\n",
            "  - Perplexity (teacher-forced):   1.0637\n",
            "  - Token Accuracy (answer-only):  98.41%\n",
            "----------------------------------------\n",
            "  -> No improvement for 4 epoch(s).\n",
            "================================================================================\n"
          ]
        },
        {
          "name": "stderr",
          "output_type": "stream",
          "text": [
            "Training Epoch 15: 100%|██████████████████████| 368/368 [05:43<00:00,  1.07it/s]\n"
          ]
        },
        {
          "name": "stdout",
          "output_type": "stream",
          "text": [
            "\n",
            "Epoch 15 Avg Loss -> 0.0002\n"
          ]
        },
        {
          "name": "stderr",
          "output_type": "stream",
          "text": [
            "Validation Set Eval:   0%|                               | 0/93 [00:00<?, ?it/s]"
          ]
        },
        {
          "name": "stdout",
          "output_type": "stream",
          "text": [
            "\n",
            "[DEBUG]\n",
            "  pred_raw=\n",
            "USER:  \n",
            "What is the histologic grade of the brain tumor in the MRI: one or two?\n",
            "ASSISTANT: The grade of the tumor is two.\n",
            "  pred_span=\n",
            "the grade of the tumor is two.\n",
            "  true=\n",
            "The grade of the tumor is two.\n",
            "  want_two=True  -> ok=True\n",
            "\n",
            "[DEBUG]\n",
            "  pred_raw=\n",
            "USER:  \n",
            "What is the histologic grade of the brain tumor in the MRI: one or two?\n",
            "ASSISTANT: The grade of the tumor is two.\n",
            "  pred_span=\n",
            "the grade of the tumor is two.\n",
            "  true=\n",
            "The grade of the tumor is two.\n",
            "  want_two=True  -> ok=True\n",
            "\n",
            "[DEBUG]\n",
            "  pred_raw=\n",
            "USER:  \n",
            "What is the histologic grade of the brain tumor in the MRI: one or two?\n",
            "ASSISTANT: The grade of the tumor is one.\n",
            "  pred_span=\n",
            "the grade of the tumor is one.\n",
            "  true=\n",
            "The grade of the tumor is one.\n",
            "  want_two=False  -> ok=True\n",
            "\n",
            "[DEBUG]\n",
            "  pred_raw=\n",
            "USER:  \n",
            "What is the histologic grade of the brain tumor in the MRI: one or two?\n",
            "ASSISTANT: The grade of the tumor is two.\n",
            "  pred_span=\n",
            "the grade of the tumor is two.\n",
            "  true=\n",
            "The grade of the tumor is two.\n",
            "  want_two=True  -> ok=True\n"
          ]
        },
        {
          "name": "stderr",
          "output_type": "stream",
          "text": [
            "Validation Set Eval: 100%|██████████████████████| 93/93 [01:49<00:00,  1.18s/it]"
          ]
        },
        {
          "name": "stdout",
          "output_type": "stream",
          "text": [
            "\n",
            "--- Results for Validation Set Eval ---\n",
            "  - VLM Grade Accuracy (QA):       85.98%\n",
            "  - Perplexity (teacher-forced):   1.0857\n",
            "  - Token Accuracy (answer-only):  98.44%\n",
            "----------------------------------------\n",
            "  -> No improvement for 5 epoch(s).\n",
            "\n",
            "--- Early stopping triggered. ---\n",
            "\n",
            "Step 5: Loading best adapters for final evaluation...\n"
          ]
        },
        {
          "name": "stderr",
          "output_type": "stream",
          "text": [
            "\n"
          ]
        },
        {
          "data": {
            "application/vnd.jupyter.widget-view+json": {
              "model_id": "e28135efec724d108177b258dbd0f2fd",
              "version_major": 2,
              "version_minor": 0
            },
            "text/plain": [
              "Loading checkpoint shards:   0%|          | 0/3 [00:00<?, ?it/s]"
            ]
          },
          "metadata": {},
          "output_type": "display_data"
        },
        {
          "name": "stderr",
          "output_type": "stream",
          "text": [
            "Final Test Evaluation:   0%|                            | 0/116 [00:00<?, ?it/s]"
          ]
        },
        {
          "name": "stdout",
          "output_type": "stream",
          "text": [
            "\n",
            "[DEBUG]\n",
            "  pred_raw=\n",
            "USER:  \n",
            "What is the histologic grade of the brain tumor in the MRI: one or two?\n",
            "ASSISTANT: The grade of the tumor is two.\n",
            "  pred_span=\n",
            "the grade of the tumor is two.\n",
            "  true=\n",
            "The grade of the tumor is two.\n",
            "  want_two=True  -> ok=True\n",
            "\n",
            "[DEBUG]\n",
            "  pred_raw=\n",
            "USER:  \n",
            "What is the histologic grade of the brain tumor in the MRI: one or two?\n",
            "ASSISTANT: The grade of the tumor is one.\n",
            "  pred_span=\n",
            "the grade of the tumor is one.\n",
            "  true=\n",
            "The grade of the tumor is one.\n",
            "  want_two=False  -> ok=True\n",
            "\n",
            "[DEBUG]\n",
            "  pred_raw=\n",
            "USER:  \n",
            "What is the histologic grade of the brain tumor in the MRI: one or two?\n",
            "ASSISTANT: The grade of the tumor is one.\n",
            "  pred_span=\n",
            "the grade of the tumor is one.\n",
            "  true=\n",
            "The grade of the tumor is one.\n",
            "  want_two=False  -> ok=True\n",
            "\n",
            "[DEBUG]\n",
            "  pred_raw=\n",
            "USER:  \n",
            "What is the histologic grade of the brain tumor in the MRI: one or two?\n",
            "ASSISTANT: The grade of the tumor is one.\n",
            "  pred_span=\n",
            "the grade of the tumor is one.\n",
            "  true=\n",
            "The grade of the tumor is one.\n",
            "  want_two=False  -> ok=True\n"
          ]
        },
        {
          "name": "stderr",
          "output_type": "stream",
          "text": [
            "Final Test Evaluation: 100%|██████████████████| 116/116 [02:17<00:00,  1.19s/it]"
          ]
        },
        {
          "name": "stdout",
          "output_type": "stream",
          "text": [
            "\n",
            "--- Results for Final Test Evaluation ---\n",
            "  - VLM Grade Accuracy (QA):       84.45%\n",
            "  - Perplexity (teacher-forced):   1.0385\n",
            "  - Token Accuracy (answer-only):  98.27%\n",
            "----------------------------------------\n"
          ]
        },
        {
          "name": "stderr",
          "output_type": "stream",
          "text": [
            "\n"
          ]
        }
      ],
      "source": [
        "import os\n",
        "import glob\n",
        "import math\n",
        "import re\n",
        "import random\n",
        "import logging\n",
        "import warnings\n",
        "from typing import List, Tuple\n",
        "\n",
        "import numpy as np\n",
        "import pandas as pd\n",
        "import torch\n",
        "from torch.optim import AdamW\n",
        "from torch.utils.data import Dataset, DataLoader\n",
        "from sklearn.model_selection import train_test_split\n",
        "from PIL import Image\n",
        "import torchvision.transforms as transforms\n",
        "from tqdm import tqdm\n",
        "\n",
        "from peft import LoraConfig, get_peft_model, PeftModel\n",
        "from transformers import (\n",
        "    AutoProcessor,\n",
        "    LlavaForConditionalGeneration,\n",
        "    get_linear_schedule_with_warmup,\n",
        ")\n",
        "from torch.cuda.amp import GradScaler, autocast\n",
        "\n",
        "warnings.filterwarnings(\"ignore\")\n",
        "logging.getLogger(\"transformers\").setLevel(logging.ERROR)\n",
        "\n",
        "# Silence tokenizer parallelism warning after fork/spawn\n",
        "os.environ.setdefault(\"TOKENIZERS_PARALLELISM\", \"false\")\n",
        "\n",
        "torch.backends.cuda.matmul.allow_tf32 = True\n",
        "\n",
        "\n",
        "# Dataset\n",
        "class VLM_QADataset(Dataset):\n",
        "    def __init__(self, image_paths: List[str], metadata_df: pd.DataFrame, is_train: bool = True):\n",
        "        self.image_paths: List[str] = []\n",
        "        self.questions: List[str] = []\n",
        "        self.answers: List[str] = []\n",
        "\n",
        "        if is_train:\n",
        "            self.transform = transforms.Compose([\n",
        "                transforms.Resize((336, 336)),\n",
        "\n",
        "            ])\n",
        "        else:\n",
        "            self.transform = transforms.Compose([transforms.Resize((336, 336))])\n",
        "\n",
        "        mdx = metadata_df.set_index(\"Patient\")\n",
        "        for img_path in image_paths:\n",
        "            pid_folder = os.path.basename(os.path.dirname(img_path))\n",
        "            pid_key = \"_\".join(pid_folder.split(\"_\")[0:3])\n",
        "            if pid_key in mdx.index:\n",
        "                row = mdx.loc[[pid_key]].iloc[0]\n",
        "                grade = row.get(\"neoplasm_histologic_grade\")\n",
        "                if pd.notna(grade) and int(grade) in [1, 2]:\n",
        "                    self.image_paths.append(img_path)\n",
        "                    q = \"What is the histologic grade of the brain tumor in the MRI: one or two?\"\n",
        "                    a = f\"The grade of the tumor is {'two' if int(grade) == 2 else 'one'}.\"\n",
        "                    self.questions.append(q)\n",
        "                    self.answers.append(a)\n",
        "\n",
        "    def __len__(self) -> int:\n",
        "        return len(self.image_paths)\n",
        "\n",
        "    def __getitem__(self, idx: int):\n",
        "        image = Image.open(self.image_paths[idx]).convert(\"RGB\")\n",
        "        image = self.transform(image)\n",
        "        return image, self.questions[idx], self.answers[idx]\n",
        "\n",
        "def vlm_collate_fn_for_training(batch):\n",
        "    images, questions, answers = zip(*batch)\n",
        "    return list(images), list(questions), list(answers)\n",
        "\n",
        "\n",
        "def vlm_collate_fn_for_evaluation(batch):\n",
        "    images, questions, answers = zip(*batch)\n",
        "    return list(images), list(questions), list(answers)\n",
        "\n",
        "# Batch build on MAIN process\n",
        "\n",
        "def build_training_batch_cpu_main(images, questions, answers, processor: AutoProcessor):\n",
        "    \"\"\"Tokenize WITH images on CPU in the main process. Returns CPU tensors; move to GPU later.\"\"\"\n",
        "    prompts = [f\"USER: <image>\\n{q}\\nASSISTANT:\" for q in questions]\n",
        "    full_texts = [\n",
        "        f\"USER: <image>\\n{q}\\nASSISTANT: {a}{processor.tokenizer.eos_token}\"\n",
        "        for q, a in zip(questions, answers)\n",
        "    ]\n",
        "\n",
        "    toks_prompt = processor(text=prompts, images=images, return_tensors=\"pt\", padding=True)\n",
        "    toks_full = processor(text=full_texts, images=images, return_tensors=\"pt\", padding=True)\n",
        "\n",
        "    labels = toks_full.input_ids.clone()\n",
        "    prompt_lens = torch.sum(toks_prompt.attention_mask, dim=1)\n",
        "    for i in range(labels.size(0)):\n",
        "        labels[i, : prompt_lens[i]] = -100\n",
        "    labels[labels == processor.tokenizer.pad_token_id] = -100\n",
        "\n",
        "    batch_cpu = {\n",
        "        \"input_ids\": toks_full.input_ids,\n",
        "        \"pixel_values\": toks_full.pixel_values,\n",
        "        \"attention_mask\": toks_full.attention_mask,\n",
        "        \"labels\": labels,\n",
        "    }\n",
        "    return batch_cpu\n",
        "\n",
        "# Eval helpers & metrics\n",
        "\n",
        "\n",
        "def _assistant_span(text: str) -> str:\n",
        "    if not isinstance(text, str):\n",
        "        return \"\"\n",
        "    parts = text.split(\"ASSISTANT:\")\n",
        "    span = parts[-1] if parts else text\n",
        "    return span.strip().lower()\n",
        "\n",
        "\n",
        "def _has_one_two_flags(answer_text: str) -> Tuple[bool, bool]:\n",
        "    answer_text = answer_text.replace(\"\\u2019\", \"'\")\n",
        "    tokens = set(re.findall(r\"\\b(one|two|1|2)\\b\", answer_text))\n",
        "    has_one = (\"one\" in tokens) or (\"1\" in tokens)\n",
        "    has_two = (\"two\" in tokens) or (\"2\" in tokens)\n",
        "    return has_one, has_two\n",
        "\n",
        "\n",
        "def compute_token_accuracy_shifted(logits: torch.Tensor, labels: torch.Tensor, eos_id: int = None) -> tuple:\n",
        "    with torch.no_grad():\n",
        "        logits = logits[:, :-1, :]\n",
        "        labels = labels[:, 1:]\n",
        "        if eos_id is not None:\n",
        "            labels = labels.clone()\n",
        "            labels[labels == eos_id] = -100\n",
        "        preds = torch.argmax(logits, dim=-1)\n",
        "        mask = labels != -100\n",
        "        correct = (preds[mask] == labels[mask]).sum().item()\n",
        "        total = mask.sum().item()\n",
        "        return correct, total\n",
        "\n",
        "\n",
        "def run_evaluation(model, processor, data_loader: DataLoader, device, description=\"Evaluating\"):\n",
        "    model.eval()\n",
        "    vlm_correct = 0\n",
        "    total_samples = 0\n",
        "    total_loss_sum = 0.0\n",
        "    total_loss_count = 0\n",
        "    total_tok_correct = 0\n",
        "    total_tok_count = 0\n",
        "\n",
        "    debug_printed = False\n",
        "\n",
        "    with torch.no_grad():\n",
        "        for batch in tqdm(data_loader, desc=description):\n",
        "            images, questions, answers = batch\n",
        "\n",
        "            # Generation accuracy (ASSISTANT-only span)\n",
        "            prompts = [f\"USER: <image>\\n{q}\\nASSISTANT:\" for q in questions]\n",
        "            with autocast():\n",
        "                gen_inputs = processor(text=prompts, images=images, return_tensors=\"pt\", padding=True).to(device)\n",
        "                generated_ids = model.generate(\n",
        "                    **gen_inputs,\n",
        "                    max_new_tokens=20,\n",
        "                    pad_token_id=processor.tokenizer.pad_token_id,\n",
        "                )\n",
        "            decoded = processor.batch_decode(generated_ids, skip_special_tokens=True)\n",
        "\n",
        "            for i in range(len(decoded)):\n",
        "                pred_span = _assistant_span(decoded[i])\n",
        "                true_span = _assistant_span(f\"ASSISTANT: {answers[i]}\")\n",
        "                want_two = (\" two\" in true_span) or true_span.strip().endswith(\"two.\")\n",
        "                has_one, has_two = _has_one_two_flags(pred_span)\n",
        "                ok = (want_two and has_two and not has_one) or ((not want_two) and has_one and not has_two)\n",
        "                if not debug_printed:\n",
        "                    print(f\"\\n[DEBUG]\\n  pred_raw=\\n{decoded[i]}\\n  pred_span=\\n{pred_span}\\n  true=\\n{answers[i]}\\n  want_two={want_two}  -> ok={ok}\")\n",
        "                if ok:\n",
        "                    vlm_correct += 1\n",
        "\n",
        "            # PPL + token-acc on teacher-forced labels (answer-only tokens contribute)\n",
        "            full_texts = [\n",
        "                f\"USER: <image>\\n{q}\\nASSISTANT: {a}{processor.tokenizer.eos_token}\"\n",
        "                for q, a in zip(questions, answers)\n",
        "            ]\n",
        "            toks_prompt = processor(text=prompts, images=images, return_tensors=\"pt\", padding=True)\n",
        "            toks_full = processor(text=full_texts, images=images, return_tensors=\"pt\", padding=True)\n",
        "            labels = toks_full.input_ids.clone()\n",
        "            prompt_lens = torch.sum(toks_prompt.attention_mask, dim=1)\n",
        "            for i in range(labels.size(0)):\n",
        "                labels[i, : prompt_lens[i]] = -100\n",
        "            labels[labels == processor.tokenizer.pad_token_id] = -100\n",
        "\n",
        "            with autocast():\n",
        "                ce_inputs = {\n",
        "                    \"input_ids\": toks_full.input_ids.to(device),\n",
        "                    \"pixel_values\": toks_full.pixel_values.to(device, dtype=torch.float16),\n",
        "                    \"attention_mask\": toks_full.attention_mask.to(device),\n",
        "                    \"labels\": labels.to(device),\n",
        "                }\n",
        "                out = model(**ce_inputs, return_dict=True)\n",
        "                loss = out.loss\n",
        "                logits = out.logits\n",
        "\n",
        "            total_loss_sum += loss.item()\n",
        "            total_loss_count += 1\n",
        "            c, n = compute_token_accuracy_shifted(logits.detach(), labels.to(logits.device), eos_id=processor.tokenizer.eos_token_id)\n",
        "            total_tok_correct += c\n",
        "            total_tok_count += n\n",
        "\n",
        "            total_samples += len(answers)\n",
        "            debug_printed = True\n",
        "\n",
        "    vlm_acc = (vlm_correct / total_samples) * 100 if total_samples else 0.0\n",
        "    avg_loss = (total_loss_sum / total_loss_count) if total_loss_count else float(\"inf\")\n",
        "    ppl = math.exp(avg_loss) if avg_loss < 50 else float(\"inf\")\n",
        "    tok_acc = (total_tok_correct / total_tok_count) * 100 if total_tok_count else 0.0\n",
        "\n",
        "    print(\"\\n--- Results for {} ---\".format(description))\n",
        "    print(f\"  - VLM Grade Accuracy (QA):       {vlm_acc:.2f}%\")\n",
        "    print(f\"  - Perplexity (teacher-forced):   {ppl:.4f}\")\n",
        "    print(f\"  - Token Accuracy (answer-only):  {tok_acc:.2f}%\")\n",
        "    print(\"-\" * 40)\n",
        "    return vlm_acc, ppl, tok_acc\n",
        "\n",
        "# LoRA targeting across LANGUAGE + PROJECTOR +  VISION\n",
        "\n",
        "\n",
        "def discover_lora_targets(llava_model, include_vision: bool = True) -> List[str]:\n",
        "    text_keys = {\"q_proj\", \"k_proj\", \"v_proj\", \"o_proj\", \"gate_proj\", \"up_proj\", \"down_proj\"}\n",
        "    projector_keys = {\"multi_modal_projector\"}\n",
        "    vision_keys = {\"q_proj\", \"k_proj\", \"v_proj\", \"out_proj\"}  # CLIP-style\n",
        "\n",
        "    target_suffixes: set[str] = set()\n",
        "\n",
        "    for name, module in llava_model.named_modules():\n",
        "        if any(k in name for k in text_keys):\n",
        "            target_suffixes.add(name.split(\".\")[-1])\n",
        "        if any(k in name for k in projector_keys):\n",
        "            if hasattr(module, \"weight\") and getattr(module, \"weight\", None) is not None:\n",
        "                target_suffixes.add(name.split(\".\")[-1])\n",
        "        if include_vision and (\"vision_tower\" in name) and any(k in name for k in vision_keys):\n",
        "            target_suffixes.add(name.split(\".\")[-1])\n",
        "\n",
        "    if not target_suffixes:\n",
        "        target_suffixes = text_keys\n",
        "\n",
        "    return sorted(target_suffixes)\n",
        "\n",
        "\n",
        "# Main\n",
        "\n",
        "if __name__ == \"__main__\":\n",
        "\n",
        "    config = {\n",
        "        \"device\": \"cuda:1\" if torch.cuda.is_available() else \"cpu\",\n",
        "        \"base_path\": \"/home/ealam/Downloads/LGG dataset Cameron/lgg-mri-segmentation/kaggle_3m\",\n",
        "        \"local_llava_path\": \"/home/ealam/Desktop/llava-1.5-7b-local\",\n",
        "        \"save_path\": \"./llava-lora-allparts\",\n",
        "        \"csv_path\": \"/home/ealam/Downloads/LGG dataset Cameron/lgg-mri-segmentation/kaggle_3m/data.csv\",\n",
        "        \"learning_rate\": 1e-4,\n",
        "        \"batch_size\": 4,\n",
        "        \"num_epochs\": 25,\n",
        "        \"early_stopping_patience\": 5,\n",
        "        \"seed\": 42,\n",
        "        \"include_vision_lora\": True,\n",
        "        \"num_workers\": 0,\n",
        "    }\n",
        "\n",
        "    # Seeds\n",
        "    torch.manual_seed(config[\"seed\"])\n",
        "    np.random.seed(config[\"seed\"])\n",
        "    random.seed(config[\"seed\"])\n",
        "    if torch.cuda.is_available():\n",
        "        torch.cuda.manual_seed_all(config[\"seed\"])\n",
        "\n",
        "    # Gather\n",
        "    print(\"Step 1: Gathering and splitting data...\")\n",
        "    all_image_paths = [p.replace(\"_mask.tif\", \".tif\") for p in glob.glob(os.path.join(config[\"base_path\"], \"*\", \"*_mask.tif\"))]\n",
        "    all_image_paths = [p for p in all_image_paths if os.path.exists(p)]\n",
        "    print(f\"Found {len(all_image_paths)} total images.\")\n",
        "\n",
        "    usable_paths, unused_paths = train_test_split(all_image_paths, test_size=0.40, random_state=config[\"seed\"])\n",
        "    print(f\"Setting aside {len(unused_paths)} images. Using the remaining {len(usable_paths)} for this experiment.\")\n",
        "\n",
        "    train_val_paths, test_paths = train_test_split(usable_paths, test_size=0.20, random_state=config[\"seed\"])\n",
        "    train_paths, val_paths = train_test_split(train_val_paths, test_size=0.20, random_state=config[\"seed\"])\n",
        "    print(f\"Splitting usable data into {len(train_paths)} training, {len(val_paths)} validation, and {len(test_paths)} test samples.\")\n",
        "\n",
        "    # Model / processor\n",
        "    print(\"\\nStep 2: Setting up model and processor...\")\n",
        "    DEVICE = config[\"device\"]\n",
        "    base_model = LlavaForConditionalGeneration.from_pretrained(\n",
        "        config[\"local_llava_path\"], torch_dtype=torch.float16, low_cpu_mem_usage=True\n",
        "    )\n",
        "    processor = AutoProcessor.from_pretrained(config[\"local_llava_path\"])\n",
        "\n",
        "    if processor.tokenizer.pad_token is None:\n",
        "        processor.tokenizer.add_special_tokens({\"pad_token\": \"[PAD]\"})\n",
        "        base_model.resize_token_embeddings(len(processor.tokenizer))\n",
        "\n",
        "    target_modules = discover_lora_targets(base_model, include_vision=config[\"include_vision_lora\"])\n",
        "    print(\"LoRA target modules:\", target_modules)\n",
        "\n",
        "    lora_cfg = LoraConfig(\n",
        "        r=32,\n",
        "        lora_alpha=64,\n",
        "        target_modules=target_modules,\n",
        "        lora_dropout=0.05,\n",
        "        bias=\"none\",\n",
        "        task_type=\"CAUSAL_LM\",\n",
        "    )\n",
        "    peft_model = get_peft_model(base_model, lora_cfg).to(DEVICE)\n",
        "\n",
        "    # Ensure projector path is trainable (helps reduce randomness at image-text interface)\n",
        "    for name, p in peft_model.named_parameters():\n",
        "        if \"multi_modal_projector\" in name:\n",
        "            p.requires_grad = True\n",
        "            if p.dtype != torch.float32:\n",
        "                p.data = p.data.to(torch.float32)\n",
        "\n",
        "    peft_model.print_trainable_parameters()\n",
        "\n",
        "    # Dataloaders\n",
        "    print(\"\\nStep 3: Preparing DataLoaders...\")\n",
        "    metadata_df = pd.read_csv(config[\"csv_path\"])\n",
        "    train_ds = VLM_QADataset(train_paths, metadata_df, is_train=True)\n",
        "    val_ds = VLM_QADataset(val_paths, metadata_df, is_train=False)\n",
        "    test_ds = VLM_QADataset(test_paths, metadata_df, is_train=False)\n",
        "\n",
        "    train_loader = DataLoader(\n",
        "        train_ds,\n",
        "        batch_size=config[\"batch_size\"],\n",
        "        shuffle=True,\n",
        "        num_workers=config[\"num_workers\"],\n",
        "        pin_memory=True,\n",
        "        collate_fn=vlm_collate_fn_for_training,\n",
        "    )\n",
        "    val_loader = DataLoader(\n",
        "        val_ds,\n",
        "        batch_size=config[\"batch_size\"],\n",
        "        shuffle=False,\n",
        "        num_workers=config[\"num_workers\"],\n",
        "        pin_memory=True,\n",
        "        collate_fn=vlm_collate_fn_for_evaluation,\n",
        "    )\n",
        "    test_loader = DataLoader(\n",
        "        test_ds,\n",
        "        batch_size=config[\"batch_size\"],\n",
        "        shuffle=False,\n",
        "        num_workers=config[\"num_workers\"],\n",
        "        pin_memory=True,\n",
        "        collate_fn=vlm_collate_fn_for_evaluation,\n",
        "    )\n",
        "\n",
        "    # Train\n",
        "    print(\"\\nStep 4: Starting fine-tuning with LoRA on language + projector + vision...\")\n",
        "    optimizer = AdamW((p for p in peft_model.parameters() if p.requires_grad), lr=config[\"learning_rate\"])\n",
        "    scaler = GradScaler()\n",
        "\n",
        "    num_training_steps = len(train_loader) * config[\"num_epochs\"]\n",
        "    num_warmup_steps = int(num_training_steps * 0.1)\n",
        "    scheduler = get_linear_schedule_with_warmup(optimizer, num_warmup_steps=num_warmup_steps, num_training_steps=num_training_steps)\n",
        "\n",
        "    best_val_acc = 0.0\n",
        "    patience = 0\n",
        "\n",
        "    def _to_device(batch_cpu):\n",
        "        out = {}\n",
        "        for k, v in batch_cpu.items():\n",
        "            if k == \"pixel_values\":\n",
        "                out[k] = v.to(DEVICE, dtype=torch.float16, non_blocking=True)\n",
        "            elif torch.is_tensor(v):\n",
        "                out[k] = v.to(DEVICE, non_blocking=True)\n",
        "            else:\n",
        "                out[k] = v\n",
        "        return out\n",
        "\n",
        "    for epoch in range(config[\"num_epochs\"]):\n",
        "        peft_model.train()\n",
        "        total_loss = 0.0\n",
        "\n",
        "        for images, questions, answers in tqdm(train_loader, desc=f\"Training Epoch {epoch+1}\"):\n",
        "            batch_cpu = build_training_batch_cpu_main(images, questions, answers, processor)\n",
        "            batch = _to_device(batch_cpu)  # move to GPU in main process\n",
        "            optimizer.zero_grad(set_to_none=True)\n",
        "            with autocast():\n",
        "                out = peft_model(**batch, return_dict=True)\n",
        "                loss = out.loss\n",
        "            scaler.scale(loss).backward()\n",
        "            scaler.step(optimizer)\n",
        "            scaler.update()\n",
        "            scheduler.step()\n",
        "            total_loss += loss.item()\n",
        "\n",
        "        avg_loss = total_loss / max(1, len(train_loader))\n",
        "        print(f\"\\nEpoch {epoch+1} Avg Loss -> {avg_loss:.4f}\")\n",
        "\n",
        "        # Validation (runs generation + PPL + token-acc)\n",
        "        val_acc, val_ppl, val_tok = run_evaluation(peft_model, processor, val_loader, DEVICE, description=\"Validation Set Eval\")\n",
        "\n",
        "        if val_acc > best_val_acc:\n",
        "            print(f\"  -> New best validation accuracy ({val_acc:.2f}%). Saving adapters...\")\n",
        "            best_val_acc = val_acc\n",
        "            patience = 0\n",
        "            peft_model.save_pretrained(config[\"save_path\"])\n",
        "            processor.save_pretrained(config[\"save_path\"])\n",
        "        else:\n",
        "            patience += 1\n",
        "            print(f\"  -> No improvement for {patience} epoch(s).\")\n",
        "            if patience >= config[\"early_stopping_patience\"]:\n",
        "                print(\"\\n--- Early stopping triggered. ---\")\n",
        "                break\n",
        "        print(\"=\" * 80)\n",
        "\n",
        "    # Final eval\n",
        "    print(\"\\nStep 5: Loading best adapters for final evaluation...\")\n",
        "    save_path = config[\"save_path\"]\n",
        "    if os.path.exists(save_path):\n",
        "        base = LlavaForConditionalGeneration.from_pretrained(config[\"local_llava_path\"], torch_dtype=torch.float16, low_cpu_mem_usage=True)\n",
        "        final_peft = PeftModel.from_pretrained(base, save_path).to(DEVICE)\n",
        "        run_evaluation(final_peft, processor, test_loader, DEVICE, description=\"Final Test Evaluation\")\n",
        "    else:\n",
        "        print(\"No adapters were saved.\")\n"
      ]
    }
  ],
  "metadata": {
    "kernelspec": {
      "display_name": "Python 3 (ipykernel)",
      "language": "python",
      "name": "python3"
    },
    "language_info": {
      "codemirror_mode": {
        "name": "ipython",
        "version": 3
      },
      "file_extension": ".py",
      "mimetype": "text/x-python",
      "name": "python",
      "nbconvert_exporter": "python",
      "pygments_lexer": "ipython3",
      "version": "3.12.3"
    },
    "colab": {
      "provenance": []
    }
  },
  "nbformat": 4,
  "nbformat_minor": 5
}